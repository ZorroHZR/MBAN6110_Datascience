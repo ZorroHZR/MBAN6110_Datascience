{
 "cells": [
  {
   "cell_type": "code",
   "execution_count": 29,
   "metadata": {},
   "outputs": [],
   "source": [
    "import gurobipy as gp\n",
    "from gurobipy import GRB\n",
    "import pandas as pd"
   ]
  },
  {
   "cell_type": "code",
   "execution_count": 30,
   "metadata": {},
   "outputs": [],
   "source": [
    "# Read in data\n",
    "supply_data = pd.read_csv('https://raw.githubusercontent.com/ZorroHZR/MMAI-5000/main/Omis%206000%20Final/ecogreen_energy_supply.csv')\n",
    "demand_data = pd.read_csv('https://raw.githubusercontent.com/ZorroHZR/MMAI-5000/main/Omis%206000%20Final/ecogreen_energy_demand.csv')"
   ]
  },
  {
   "cell_type": "code",
   "execution_count": 31,
   "metadata": {},
   "outputs": [
    {
     "name": "stdout",
     "output_type": "stream",
     "text": [
      "Gurobi Optimizer version 11.0.0 build v11.0.0rc2 (win64 - Windows 10.0 (19045.2))\n",
      "\n",
      "CPU model: Intel(R) Core(TM) i7-8700 CPU @ 3.20GHz, instruction set [SSE2|AVX|AVX2]\n",
      "Thread count: 6 physical cores, 12 logical processors, using up to 12 threads\n",
      "\n",
      "Optimize a model with 236 rows, 220 columns and 850 nonzeros\n",
      "Model fingerprint: 0x72ed505d\n",
      "Variable types: 200 continuous, 20 integer (20 binary)\n",
      "Coefficient statistics:\n",
      "  Matrix range     [3e-01, 2e+05]\n",
      "  Objective range  [2e-01, 3e+07]\n",
      "  Bounds range     [1e+00, 1e+00]\n",
      "  RHS range        [1e+00, 2e+05]\n",
      "Found heuristic solution: objective 3.232874e+08\n",
      "Presolve removed 200 rows and 0 columns\n",
      "Presolve time: 0.00s\n",
      "Presolved: 36 rows, 220 columns, 500 nonzeros\n",
      "Variable types: 200 continuous, 20 integer (20 binary)\n",
      "\n",
      "Root relaxation: objective 1.685904e+08, 79 iterations, 0.00 seconds (0.00 work units)\n",
      "\n",
      "    Nodes    |    Current Node    |     Objective Bounds      |     Work\n",
      " Expl Unexpl |  Obj  Depth IntInf | Incumbent    BestBd   Gap | It/Node Time\n",
      "\n",
      "     0     0 1.6859e+08    0    4 3.2329e+08 1.6859e+08  47.9%     -    0s\n",
      "H    0     0                    2.043956e+08 1.6859e+08  17.5%     -    0s\n",
      "H    0     0                    2.043926e+08 1.6859e+08  17.5%     -    0s\n",
      "H    0     0                    2.000229e+08 1.6859e+08  15.7%     -    0s\n",
      "H    0     0                    2.000114e+08 1.6859e+08  15.7%     -    0s\n",
      "H    0     0                    1.975418e+08 1.8492e+08  6.39%     -    0s\n",
      "     0     0 1.8696e+08    0    1 1.9754e+08 1.8696e+08  5.36%     -    0s\n",
      "     0     0 1.8795e+08    0    1 1.9754e+08 1.8795e+08  4.86%     -    0s\n",
      "H    0     0                    1.930057e+08 1.9202e+08  0.51%     -    0s\n",
      "     0     0 1.9202e+08    0    1 1.9301e+08 1.9202e+08  0.51%     -    0s\n",
      "     0     0 1.9227e+08    0    1 1.9301e+08 1.9227e+08  0.38%     -    0s\n",
      "     0     0 1.9227e+08    0    1 1.9301e+08 1.9227e+08  0.38%     -    0s\n",
      "\n",
      "Cutting planes:\n",
      "  Cover: 1\n",
      "  Implied bound: 1\n",
      "  MIR: 2\n",
      "  Flow cover: 1\n",
      "\n",
      "Explored 1 nodes (161 simplex iterations) in 0.04 seconds (0.00 work units)\n",
      "Thread count was 12 (of 12 available processors)\n",
      "\n",
      "Solution count 5: 1.93006e+08 1.97542e+08 2.00011e+08 ... 3.23287e+08\n",
      "\n",
      "Optimal solution found (tolerance 1.00e-04)\n",
      "Best objective 1.930056887899e+08, best bound 1.930050012520e+08, gap 0.0004%\n"
     ]
    }
   ],
   "source": [
    "# Extract relevant data\n",
    "fixed_costs = supply_data['Fixed'].tolist()\n",
    "capacities = supply_data['Capacity'].tolist()\n",
    "variable_costs = supply_data.iloc[:, 3:].values.tolist()\n",
    "demands = demand_data['Demand'].tolist()\n",
    "\n",
    "# Create model\n",
    "m = gp.Model(\"EcoGreen_Energy\")\n",
    "\n",
    "# Add variables\n",
    "open_vars = m.addVars(20, vtype=GRB.BINARY, name=\"open\")\n",
    "supply_vars = m.addVars(20, 10, name=\"supply\")\n",
    "\n",
    "# Set objective\n",
    "m.setObjective(gp.quicksum(open_vars[i] * fixed_costs[i] for i in range(20)) + \n",
    "               gp.quicksum(supply_vars[i, j] * variable_costs[i][j] for i in range(20) for j in range(10)),\n",
    "               GRB.MINIMIZE)\n",
    "\n",
    "# Add constraints\n",
    "# Capacity constraints\n",
    "m.addConstrs((gp.quicksum(supply_vars[i, j] for j in range(10)) <= capacities[i] * open_vars[i] for i in range(20)), name=\"Capacity\")\n",
    "\n",
    "# Demand constraints\n",
    "m.addConstrs((gp.quicksum(supply_vars[i, j] for i in range(20)) == demands[j] for j in range(10)), name=\"Demand\")\n",
    "\n",
    "# Logical constraints\n",
    "m.addConstr(open_vars[9] + open_vars[14] + open_vars[19] <= 1, name=\"Logical1\")\n",
    "m.addConstr(open_vars[2] <= open_vars[3], name=\"Logical2\")\n",
    "m.addConstr(open_vars[2] <= open_vars[4], name=\"Logical3\")\n",
    "m.addConstr(open_vars[4] <= open_vars[7] + open_vars[8], name=\"Logical4\")\n",
    "m.addConstr(gp.quicksum(open_vars[i] for i in range(10)) <= 2 * gp.quicksum(open_vars[i] for i in range(10, 20)), name=\"Logical5\")\n",
    "\n",
    "# Energy mix constraints\n",
    "m.addConstr(gp.quicksum(gp.quicksum(supply_vars[i,j] for j in range(10)) for i in range(5)) >= \n",
    "            0.3 * gp.quicksum(gp.quicksum(supply_vars[i,j] for j in range(10)) for i in range(20)), name=\"EnergyMix\")\n",
    "\n",
    "# No single plant provides >50% of a province's needs\n",
    "m.addConstrs((supply_vars[i,j] <= 0.5 * demands[j] for i in range(20) for j in range(10)), name=\"MaxSupply\")\n",
    "\n",
    "# Optimize model\n",
    "m.optimize()"
   ]
  },
  {
   "cell_type": "code",
   "execution_count": 32,
   "metadata": {},
   "outputs": [
    {
     "name": "stdout",
     "output_type": "stream",
     "text": [
      "Optimal objective value: $193005688.79\n",
      "Number of opened power plants: 11\n"
     ]
    }
   ],
   "source": [
    "print(f\"Optimal objective value: ${m.objVal:.2f}\")\n",
    "print(f\"Number of opened power plants: {sum([int(open_vars[i].x) for i in range(20)])}\")"
   ]
  },
  {
   "cell_type": "code",
   "execution_count": 33,
   "metadata": {},
   "outputs": [
    {
     "name": "stdout",
     "output_type": "stream",
     "text": [
      "In the optimal solution, 11 power plants will be established.\n"
     ]
    }
   ],
   "source": [
    "# (g) Print the number of opened power plants\n",
    "print(f\"In the optimal solution, {sum([int(open_vars[i].x) for i in range(20)])} power plants will be established.\")\n"
   ]
  },
  {
   "cell_type": "code",
   "execution_count": 34,
   "metadata": {},
   "outputs": [
    {
     "name": "stdout",
     "output_type": "stream",
     "text": [
      "The highest number of power plants supplying a single province is 4.\n",
      "The lowest number of power plants supplying a single province is 2.\n"
     ]
    }
   ],
   "source": [
    "# (h) Print the highest and lowest number of power plants supplying a single province\n",
    "max_plants = max([sum([1 for i in range(20) if supply_vars[i,j].x > 0]) for j in range(10)])\n",
    "min_plants = min([sum([1 for i in range(20) if supply_vars[i,j].x > 0]) for j in range(10)])\n",
    "print(f\"The highest number of power plants supplying a single province is {max_plants}.\")\n",
    "print(f\"The lowest number of power plants supplying a single province is {min_plants}.\")\n"
   ]
  },
  {
   "cell_type": "code",
   "execution_count": 36,
   "metadata": {},
   "outputs": [
    {
     "name": "stdout",
     "output_type": "stream",
     "text": [
      "Gurobi Optimizer version 11.0.0 build v11.0.0rc2 (win64 - Windows 10.0 (19045.2))\n",
      "\n",
      "CPU model: Intel(R) Core(TM) i7-8700 CPU @ 3.20GHz, instruction set [SSE2|AVX|AVX2]\n",
      "Thread count: 6 physical cores, 12 logical processors, using up to 12 threads\n",
      "\n",
      "Optimize a model with 236 rows, 220 columns and 850 nonzeros\n",
      "Model fingerprint: 0x72ed505d\n",
      "Variable types: 200 continuous, 20 integer (20 binary)\n",
      "Coefficient statistics:\n",
      "  Matrix range     [3e-01, 2e+05]\n",
      "  Objective range  [2e-01, 3e+07]\n",
      "  Bounds range     [1e+00, 1e+00]\n",
      "  RHS range        [1e+00, 2e+05]\n",
      "Presolved: 36 rows, 220 columns, 500 nonzeros\n",
      "\n",
      "Continuing optimization...\n",
      "\n",
      "\n",
      "Cutting planes:\n",
      "  Cover: 1\n",
      "  Implied bound: 1\n",
      "  MIR: 2\n",
      "  Flow cover: 1\n"
     ]
    },
    {
     "name": "stdout",
     "output_type": "stream",
     "text": [
      "\n",
      "Explored 1 nodes (161 simplex iterations) in 0.01 seconds (0.00 work units)\n",
      "Thread count was 12 (of 12 available processors)\n",
      "\n",
      "Solution count 5: 1.93006e+08 1.97542e+08 2.00011e+08 ... 3.23287e+08\n",
      "\n",
      "Optimal solution found (tolerance 1.00e-04)\n",
      "Best objective 1.930056887899e+08, best bound 1.930050012520e+08, gap 0.0004%\n",
      "Without the 50% rule, 11 power plants will be established.\n"
     ]
    }
   ],
   "source": [
    "# (k) Omit the 50% rule and print the number of opened power plants\n",
    "max_supply_constrs = m.getConstrs()\n",
    "for constr in max_supply_constrs:\n",
    "    if constr.ConstrName == \"MaxSupply\":\n",
    "        m.remove(constr)\n",
    "\n",
    "m.optimize()\n",
    "print(f\"Without the 50% rule, {sum([int(open_vars[i].x) for i in range(20)])} power plants will be established.\")"
   ]
  }
 ],
 "metadata": {
  "kernelspec": {
   "display_name": "Python 3",
   "language": "python",
   "name": "python3"
  },
  "language_info": {
   "codemirror_mode": {
    "name": "ipython",
    "version": 3
   },
   "file_extension": ".py",
   "mimetype": "text/x-python",
   "name": "python",
   "nbconvert_exporter": "python",
   "pygments_lexer": "ipython3",
   "version": "3.11.4"
  }
 },
 "nbformat": 4,
 "nbformat_minor": 2
}
