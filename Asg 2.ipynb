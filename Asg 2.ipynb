{
 "cells": [
  {
   "cell_type": "code",
   "execution_count": 43,
   "metadata": {},
   "outputs": [
    {
     "name": "stderr",
     "output_type": "stream",
     "text": [
      "[nltk_data] Downloading package stopwords to\n",
      "[nltk_data]     C:\\Users\\dashuaibi\\AppData\\Roaming\\nltk_data...\n",
      "[nltk_data]   Package stopwords is already up-to-date!\n",
      "[nltk_data] Downloading package punkt to\n",
      "[nltk_data]     C:\\Users\\dashuaibi\\AppData\\Roaming\\nltk_data...\n",
      "[nltk_data]   Package punkt is already up-to-date!\n"
     ]
    }
   ],
   "source": [
    "from pathlib import Path\n",
    "\n",
    "from zipfile import ZipFile\n",
    "import pandas as pd\n",
    "from sklearn.model_selection import train_test_split\n",
    "from sklearn.feature_extraction.text import CountVectorizer\n",
    "from sklearn.feature_extraction.text import TfidfTransformer\n",
    "from sklearn.decomposition import TruncatedSVD\n",
    "from sklearn.preprocessing import Normalizer\n",
    "from sklearn.pipeline import make_pipeline\n",
    "from sklearn.linear_model import LogisticRegression\n",
    "import nltk\n",
    "from nltk import word_tokenize          \n",
    "from nltk.stem.snowball import EnglishStemmer \n",
    "import matplotlib.pylab as plt\n",
    "import pyLDAvis\n",
    "\n",
    "import dmba\n",
    "from dmba import printTermDocumentMatrix, classificationSummary, liftChart\n",
    "\n",
    "import random\n",
    "from faker import Faker\n",
    "import re\n",
    "import string\n",
    "from nltk.corpus import stopwords\n",
    "nltk.download('stopwords')\n",
    "from nltk.tokenize import word_tokenize\n",
    "from nltk.tokenize import sent_tokenize \n",
    "nltk.download('punkt')\n",
    "from gensim import corpora\n",
    "from gensim.models import LdaModel\n",
    "from gensim import models\n",
    "import pyLDAvis.gensim_models as gensimvis\n",
    "import pyLDAvis\n",
    "import matplotlib.pyplot as plt\n",
    "import nltk\n",
    "import PyPDF2\n",
    "from gensim import corpora, models\n",
    "from wordcloud import WordCloud\n",
    "from PyPDF2 import PdfReader\n",
    "from sklearn.feature_extraction.text import CountVectorizer\n",
    "from sklearn.decomposition import LatentDirichletAllocation\n",
    "from nltk.stem.wordnet import WordNetLemmatizer\n",
    "import gensim"
   ]
  },
  {
   "cell_type": "code",
   "execution_count": 44,
   "metadata": {},
   "outputs": [],
   "source": [
    "df = pd.read_csv(\"https://raw.githubusercontent.com/ZorroHZR/MMAI-5000/main/farm-ads.csv\")\n",
    "\n",
    "# Assign column names\n",
    "df.columns = ['Label', 'Text']"
   ]
  },
  {
   "cell_type": "code",
   "execution_count": 45,
   "metadata": {},
   "outputs": [],
   "source": [
    "df['Label'] = df['Label'].map({-1: 0, 1: 1})"
   ]
  },
  {
   "cell_type": "code",
   "execution_count": 46,
   "metadata": {},
   "outputs": [
    {
     "data": {
      "text/html": [
       "<div>\n",
       "<style scoped>\n",
       "    .dataframe tbody tr th:only-of-type {\n",
       "        vertical-align: middle;\n",
       "    }\n",
       "\n",
       "    .dataframe tbody tr th {\n",
       "        vertical-align: top;\n",
       "    }\n",
       "\n",
       "    .dataframe thead th {\n",
       "        text-align: right;\n",
       "    }\n",
       "</style>\n",
       "<table border=\"1\" class=\"dataframe\">\n",
       "  <thead>\n",
       "    <tr style=\"text-align: right;\">\n",
       "      <th></th>\n",
       "      <th>Label</th>\n",
       "      <th>Text</th>\n",
       "    </tr>\n",
       "  </thead>\n",
       "  <tbody>\n",
       "    <tr>\n",
       "      <th>0</th>\n",
       "      <td>0</td>\n",
       "      <td>ad-abdominal ad-aortic ad-aneurysm ad-million...</td>\n",
       "    </tr>\n",
       "    <tr>\n",
       "      <th>1</th>\n",
       "      <td>0</td>\n",
       "      <td>ad-absorbent ad-oil ad-snar ad-factory ad-dir...</td>\n",
       "    </tr>\n",
       "    <tr>\n",
       "      <th>2</th>\n",
       "      <td>0</td>\n",
       "      <td>ad-acid ad-reflux ad-relief ad-top ad-treatme...</td>\n",
       "    </tr>\n",
       "    <tr>\n",
       "      <th>3</th>\n",
       "      <td>0</td>\n",
       "      <td>ad-acid ad-reflux ad-symptom ad-acid ad-reflu...</td>\n",
       "    </tr>\n",
       "    <tr>\n",
       "      <th>4</th>\n",
       "      <td>0</td>\n",
       "      <td>ad-addiction ad-treatment ad-detox ad-opioid ...</td>\n",
       "    </tr>\n",
       "  </tbody>\n",
       "</table>\n",
       "</div>"
      ],
      "text/plain": [
       "   Label                                               Text\n",
       "0      0   ad-abdominal ad-aortic ad-aneurysm ad-million...\n",
       "1      0   ad-absorbent ad-oil ad-snar ad-factory ad-dir...\n",
       "2      0   ad-acid ad-reflux ad-relief ad-top ad-treatme...\n",
       "3      0   ad-acid ad-reflux ad-symptom ad-acid ad-reflu...\n",
       "4      0   ad-addiction ad-treatment ad-detox ad-opioid ..."
      ]
     },
     "execution_count": 46,
     "metadata": {},
     "output_type": "execute_result"
    }
   ],
   "source": [
    "df.head()"
   ]
  },
  {
   "cell_type": "markdown",
   "metadata": {},
   "source": [
    "Q1"
   ]
  },
  {
   "cell_type": "code",
   "execution_count": 47,
   "metadata": {},
   "outputs": [],
   "source": [
    "# Learn features based on text\n",
    "count_vect = CountVectorizer()\n",
    "counts = count_vect.fit_transform(df['Text'])\n",
    "\n",
    "# Apply TF-IDF Normalization\n",
    "transformer = TfidfTransformer()\n",
    "X_tfidf = transformer.fit_transform(counts)\n",
    "\n",
    "# Dimensionality Reduction to create a Concept-Document Matrix\n",
    "svd_model = TruncatedSVD(n_components=20, random_state=42)\n",
    "X_concept = svd_model.fit_transform(X_tfidf)"
   ]
  },
  {
   "cell_type": "markdown",
   "metadata": {},
   "source": [
    "Q2"
   ]
  },
  {
   "cell_type": "code",
   "execution_count": 48,
   "metadata": {},
   "outputs": [
    {
     "name": "stdout",
     "output_type": "stream",
     "text": [
      "Most frequently appearing terms in the corpus:\n",
      "ad         45424\n",
      "title      23542\n",
      "header     14509\n",
      "list       11228\n",
      "product    11154\n",
      "com        10704\n",
      "pet         7057\n",
      "health      6202\n",
      "home        5870\n",
      "free        5854\n",
      "dtype: int64\n",
      "Entries for 'pet':\n",
      "0        0\n",
      "1        0\n",
      "2        0\n",
      "3        0\n",
      "4        0\n",
      "        ..\n",
      "4137    53\n",
      "4138    53\n",
      "4139    53\n",
      "4140    49\n",
      "4141    53\n",
      "Name: pet, Length: 4142, dtype: int64\n",
      "Entries for 'health':\n",
      "0        0\n",
      "1        0\n",
      "2        0\n",
      "3        1\n",
      "4        0\n",
      "        ..\n",
      "4137    10\n",
      "4138     9\n",
      "4139     9\n",
      "4140     9\n",
      "4141     9\n",
      "Name: health, Length: 4142, dtype: int64\n",
      "Total count for 'pet': 7057\n",
      "Total count for 'health': 6202\n"
     ]
    }
   ],
   "source": [
    "import numpy as np\n",
    "import pandas as pd\n",
    "\n",
    "# Assuming 'counts' is the Term-Document matrix you have from the CountVectorizer\n",
    "# Convert it to a dense format because the TDM is typically sparse\n",
    "dense_counts = counts.toarray()\n",
    "\n",
    "# Convert to DataFrame for easier handling\n",
    "terms = count_vect.get_feature_names_out()  # This gets the list of terms in the order they're stored in the matrix\n",
    "tdm_df = pd.DataFrame(dense_counts, columns=terms)\n",
    "\n",
    "# Sum up each term's occurrences across all documents and sort them to find the most frequent terms\n",
    "most_frequent_terms = tdm_df.sum(axis=0).sort_values(ascending=False).head(10)  # Adjust as necessary to see more terms\n",
    "\n",
    "# Print the most frequent terms\n",
    "print(\"Most frequently appearing terms in the corpus:\")\n",
    "print(most_frequent_terms)\n",
    "\n",
    "# Print the entries for 'pet' and 'health'\n",
    "print(f\"Entries for 'pet':\\n{tdm_df['pet']}\")\n",
    "print(f\"Entries for 'health':\\n{tdm_df['health']}\")\n",
    "\n",
    "# Print the total counts for 'pet' and 'health'\n",
    "print(f\"Total count for 'pet': {tdm_df['pet'].sum()}\")\n",
    "print(f\"Total count for 'health': {tdm_df['health'].sum()}\")"
   ]
  },
  {
   "cell_type": "code",
   "execution_count": 49,
   "metadata": {},
   "outputs": [
    {
     "data": {
      "image/png": "[encoded data removed]",
      "text/plain": [
       "<Figure size 640x480 with 1 Axes>"
      ]
     },
     "metadata": {},
     "output_type": "display_data"
    }
   ],
   "source": [
    "import matplotlib.pyplot as plt\n",
    "\n",
    "# Assuming 'most_frequent_terms' is a pandas Series like the one in your example\n",
    "most_frequent_terms = pd.Series({\n",
    "    'ad': 45424,\n",
    "    'title': 23542,\n",
    "    'header': 14509,\n",
    "    'list': 11228,\n",
    "    'product': 11154,\n",
    "    'com': 10704,\n",
    "    'pet': 7057,\n",
    "    'health': 6202,\n",
    "    'home': 5870,\n",
    "    'free': 5854,\n",
    "})\n",
    "\n",
    "# Create a bar plot\n",
    "most_frequent_terms.plot(kind='bar')\n",
    "\n",
    "# Adding titles and labels\n",
    "plt.title('Most Frequently Appearing Terms in the Corpus')\n",
    "plt.xlabel('Terms')\n",
    "plt.ylabel('Frequency')\n",
    "\n",
    "# Show the plot\n",
    "plt.show()\n"
   ]
  },
  {
   "cell_type": "code",
   "execution_count": 56,
   "metadata": {},
   "outputs": [
    {
     "data": {
      "image/png": "[encoded data removed]",
      "text/plain": [
       "<Figure size 600x400 with 1 Axes>"
      ]
     },
     "metadata": {},
     "output_type": "display_data"
    }
   ],
   "source": [
    "import matplotlib.pyplot as plt\n",
    "\n",
    "label_counts = df['Label'].value_counts()\n",
    "\n",
    "plt.figure(figsize=(6, 4))\n",
    "plt.bar(label_counts.index, label_counts.values)\n",
    "plt.xlabel('Label')\n",
    "plt.ylabel('Count')\n",
    "plt.title('Label Distribution')\n",
    "plt.show()"
   ]
  },
  {
   "cell_type": "markdown",
   "metadata": {},
   "source": [
    "The chosen 2 entries are pet and health.</br>\n",
    "The first non-zero entry is 'pet', indicates that the term 'pet' appears 53 time in the 4138th document. The second non-zero entry is 'health', indicates that the term 'health' appears 10 time in the 4138th document. It may show that pet health is the main focus of ad 4138.</br>\n",
    "By looking at the frequncy table, pet and health are both top 10 most frequent appeared terms in the dataset, which means that the ad in the dataset are mainly related to pet and health</br>"
   ]
  },
  {
   "cell_type": "markdown",
   "metadata": {},
   "source": [
    "# Add the label distribution graph"
   ]
  },
  {
   "cell_type": "code",
   "execution_count": 50,
   "metadata": {},
   "outputs": [
    {
     "name": "stderr",
     "output_type": "stream",
     "text": [
      "c:\\Users\\dashuaibi\\AppData\\Local\\Programs\\Python\\Python311\\Lib\\site-packages\\sklearn\\feature_extraction\\text.py:525: UserWarning: The parameter 'token_pattern' will not be used since 'tokenizer' is not None'\n",
      "  warnings.warn(\n"
     ]
    }
   ],
   "source": [
    "from sklearn.feature_extraction._stop_words import ENGLISH_STOP_WORDS\n",
    "class LemmaTokenizer(object):\n",
    "    def __init__(self):\n",
    "        self.stemmer = EnglishStemmer()\n",
    "        self.stopWords = set(ENGLISH_STOP_WORDS)\n",
    "    def __call__(self, doc):\n",
    "        return [self.stemmer.stem(t) for t in word_tokenize(doc) \n",
    "                if t.isalpha() and t not in self.stopWords]\n",
    "\n",
    "preprocessor = CountVectorizer(tokenizer=LemmaTokenizer(), encoding='latin1')\n",
    "preprocessedText = preprocessor.fit_transform(df['Text'])"
   ]
  },
  {
   "cell_type": "code",
   "execution_count": 51,
   "metadata": {},
   "outputs": [],
   "source": [
    "# Step 3: TF-IDF and latent semantic analysis\n",
    "tfidfTransformer = TfidfTransformer()\n",
    "tfidf = tfidfTransformer.fit_transform(preprocessedText)\n",
    "\n",
    "# Extract 20 concepts using LSA ()\n",
    "svd = TruncatedSVD(20)\n",
    "normalizer = Normalizer(copy=False)\n",
    "lsa = make_pipeline(svd, normalizer)\n",
    "\n",
    "lsa_tfidf = lsa.fit_transform(tfidf)"
   ]
  },
  {
   "cell_type": "markdown",
   "metadata": {},
   "source": [
    "Concept-Document matrix Model"
   ]
  },
  {
   "cell_type": "code",
   "execution_count": 52,
   "metadata": {},
   "outputs": [
    {
     "name": "stdout",
     "output_type": "stream",
     "text": [
      "Cross-validation scores: [0.80868167 0.79549114 0.80354267 0.79871176 0.80193237]\n",
      "Mean CV accuracy: 0.8016719221668194\n",
      "Accuracy Score on the test set: 0.7866795366795367\n"
     ]
    }
   ],
   "source": [
    "from sklearn.model_selection import train_test_split, cross_val_score\n",
    "from sklearn.linear_model import LogisticRegression\n",
    "from sklearn.metrics import accuracy_score\n",
    "\n",
    "label = df['Label']\n",
    "\n",
    "# Split dataset into 75% training and 25% test set\n",
    "X_train, X_test, y_train, y_test = train_test_split(lsa_tfidf, label, test_size=0.25, random_state=42)\n",
    "\n",
    "# Run logistic regression model on training set\n",
    "logit_reg = LogisticRegression(solver='lbfgs', max_iter=1000)  # Increased max_iter for convergence if needed\n",
    "\n",
    "# Perform cross-validation\n",
    "cv_scores = cross_val_score(logit_reg, X_train, y_train, cv=5)\n",
    "\n",
    "logit_reg.fit(X_train, y_train)\n",
    "\n",
    "# Predict on test set\n",
    "y_pred = logit_reg.predict(X_test)\n",
    "\n",
    "# Calculate accuracy\n",
    "accuracy = accuracy_score(y_test, y_pred)\n",
    "\n",
    "# Print the accuracy score and the cross-validation scores\n",
    "print(f'Cross-validation scores: {cv_scores}')\n",
    "print(f'Mean CV accuracy: {np.mean(cv_scores)}')\n",
    "print(f'Accuracy Score on the test set: {accuracy}')"
   ]
  },
  {
   "cell_type": "markdown",
   "metadata": {},
   "source": [
    "Term-Document matrix Model"
   ]
  },
  {
   "cell_type": "code",
   "execution_count": 53,
   "metadata": {},
   "outputs": [
    {
     "name": "stdout",
     "output_type": "stream",
     "text": [
      "Cross-validation scores: [0.8681672  0.88083736 0.86312399 0.90338164 0.88244767]\n",
      "Mean CV accuracy: 0.8795915725595581\n",
      "Accuracy Score on the test set: 0.8803088803088803\n"
     ]
    }
   ],
   "source": [
    "from sklearn.model_selection import train_test_split, cross_val_score\n",
    "from sklearn.linear_model import LogisticRegression\n",
    "from sklearn.metrics import accuracy_score\n",
    "\n",
    "\n",
    "# Split dataset into 75% training and 25% test set\n",
    "X_train1, X_test1, y_train1, y_test1 = train_test_split(tfidf, label, test_size=0.25, random_state=42)\n",
    "\n",
    "# Run logistic regression model on training set\n",
    "logit_reg = LogisticRegression(solver='lbfgs', max_iter=1000)  # Increased max_iter for convergence if needed\n",
    "\n",
    "# Perform cross-validation\n",
    "cv_scores = cross_val_score(logit_reg, X_train1, y_train1, cv=5)\n",
    "\n",
    "logit_reg.fit(X_train1, y_train1)\n",
    "\n",
    "# Predict on test set\n",
    "y_pred = logit_reg.predict(X_test1)\n",
    "\n",
    "# Calculate accuracy\n",
    "accuracy = accuracy_score(y_test1, y_pred)\n",
    "\n",
    "# Print the accuracy score and the cross-validation scores\n",
    "print(f'Cross-validation scores: {cv_scores}')\n",
    "print(f'Mean CV accuracy: {np.mean(cv_scores)}')\n",
    "print(f'Accuracy Score on the test set: {accuracy}')"
   ]
  },
  {
   "cell_type": "markdown",
   "metadata": {},
   "source": [
    "Concept-Document matrix Model #2"
   ]
  },
  {
   "cell_type": "code",
   "execution_count": 54,
   "metadata": {},
   "outputs": [],
   "source": [
    "# Extract 50 concepts using LSA ()\n",
    "svd = TruncatedSVD(1000)\n",
    "normalizer = Normalizer(copy=False)\n",
    "lsa = make_pipeline(svd, normalizer)\n",
    "\n",
    "lsa_tfidf1 = lsa.fit_transform(tfidf)"
   ]
  },
  {
   "cell_type": "code",
   "execution_count": 55,
   "metadata": {},
   "outputs": [
    {
     "name": "stdout",
     "output_type": "stream",
     "text": [
      "Cross-validation scores: [0.87299035 0.88566828 0.85990338 0.90499195 0.88405797]\n",
      "Mean CV accuracy: 0.8815223863595177\n",
      "Accuracy Score on the test set: 0.8812741312741312\n"
     ]
    }
   ],
   "source": [
    "from sklearn.model_selection import train_test_split, cross_val_score\n",
    "from sklearn.linear_model import LogisticRegression\n",
    "from sklearn.metrics import accuracy_score\n",
    "\n",
    "label = df['Label']\n",
    "\n",
    "# Split dataset into 75% training and 25% test set\n",
    "X_train2, X_test2, y_train2, y_test2 = train_test_split(lsa_tfidf1, label, test_size=0.25, random_state=42)\n",
    "\n",
    "# Run logistic regression model on training set\n",
    "logit_reg = LogisticRegression(solver='lbfgs', max_iter=1000)  # Increased max_iter for convergence if needed\n",
    "\n",
    "# Perform cross-validation\n",
    "cv_scores = cross_val_score(logit_reg, X_train2, y_train2, cv=5)\n",
    "\n",
    "logit_reg.fit(X_train2, y_train2)\n",
    "\n",
    "# Predict on test set\n",
    "y_pred = logit_reg.predict(X_test2)\n",
    "\n",
    "# Calculate accuracy\n",
    "accuracy = accuracy_score(y_test2, y_pred)\n",
    "\n",
    "# Print the accuracy score and the cross-validation scores\n",
    "print(f'Cross-validation scores: {cv_scores}')\n",
    "print(f'Mean CV accuracy: {np.mean(cv_scores)}')\n",
    "print(f'Accuracy Score on the test set: {accuracy}')"
   ]
  },
  {
   "cell_type": "code",
   "execution_count": 57,
   "metadata": {},
   "outputs": [
    {
     "data": {
      "image/png": "[encoded data removed]",
      "text/plain": [
       "<Figure size 800x400 with 1 Axes>"
      ]
     },
     "metadata": {},
     "output_type": "display_data"
    }
   ],
   "source": [
    "import matplotlib.pyplot as plt\n",
    "\n",
    "models = ['Term-Document Matrix', 'Concept-Document Matrix']\n",
    "accuracies = [0.9005791505791506, 0.805019305019305]  # Replace with your actual accuracy scores\n",
    "\n",
    "plt.figure(figsize=(8, 4))\n",
    "plt.bar(models, accuracies)\n",
    "plt.xlabel('Model')\n",
    "plt.ylabel('Accuracy')\n",
    "plt.title('Model Accuracy Comparison')\n",
    "plt.ylim(0, 1)\n",
    "plt.show()"
   ]
  },
  {
   "cell_type": "code",
   "execution_count": 58,
   "metadata": {},
   "outputs": [
    {
     "data": {
      "image/png": "[encoded data removed]",
      "text/plain": [
       "<Figure size 800x400 with 1 Axes>"
      ]
     },
     "metadata": {},
     "output_type": "display_data"
    }
   ],
   "source": [
    "import matplotlib.pyplot as plt\n",
    "\n",
    "cv_scores_tdm = [0.85530547, 0.89389068, 0.88727858, 0.87439614, 0.87439614]  # Replace with your actual scores\n",
    "cv_scores_cdm = [0.79903537, 0.79742765, 0.80354267, 0.80837359, 0.81481481]  # Replace with your actual scores\n",
    "\n",
    "plt.figure(figsize=(8, 4))\n",
    "plt.boxplot([cv_scores_tdm, cv_scores_cdm], labels=['Term-Document Matrix', 'Concept-Document Matrix'])\n",
    "plt.xlabel('Model')\n",
    "plt.ylabel('Cross-Validation Score')\n",
    "plt.title('Cross-Validation Scores')\n",
    "plt.show()"
   ]
  },
  {
   "cell_type": "markdown",
   "metadata": {},
   "source": [
    "Briefly explain the difference between the Term-Document matrix and the Concept-Document matrix.(2 points) </br>\n",
    "Chatgpt, show the difference and the best situation for using both matrix </br> \n",
    "Identify and list the name of the dimensionality reduction technique, the Concept-Document matrix is most closely related to? (2 points) </br>\n",
    "Chatgpt</br>\n",
    "Is using Concept-Document matrix better than Term-Document matrix to identify key predictor variables? Briefly explain your answer (4 points) </br>\n",
    "Use the two accuracy rate to show that the td-if is better, cos the higher accuracy rate</br>"
   ]
  }
 ],
 "metadata": {
  "kernelspec": {
   "display_name": "Python 3",
   "language": "python",
   "name": "python3"
  },
  "language_info": {
   "codemirror_mode": {
    "name": "ipython",
    "version": 3
   },
   "file_extension": ".py",
   "mimetype": "text/x-python",
   "name": "python",
   "nbconvert_exporter": "python",
   "pygments_lexer": "ipython3",
   "version": "3.11.4"
  }
 },
 "nbformat": 4,
 "nbformat_minor": 2
}
