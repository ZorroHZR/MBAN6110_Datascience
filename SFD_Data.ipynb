{
 "cells": [
  {
   "attachments": {},
   "cell_type": "markdown",
   "metadata": {},
   "source": [
    "Introduction"
   ]
  },
  {
   "attachments": {},
   "cell_type": "markdown",
   "metadata": {},
   "source": [
    "The Crime Incident Report is provided by Toronto Police Services (TPS) to record preliminary details of incidents to which TPS officers respond. It is a dataset containing records from the new Crime Incident Reporting System, which includes a reduced set of fields focused on capturing the type of incident and when and where it occurred. (Records begin in 2004 and continue through 2022)."
   ]
  },
  {
   "cell_type": "code",
   "execution_count": 27,
   "metadata": {},
   "outputs": [],
   "source": [
    "import pandas as pd\n",
    "import seaborn as sns\n",
    "import sys, os\n",
    "from matplotlib import rcParams\n",
    "import matplotlib.pyplot as plt"
   ]
  },
  {
   "attachments": {},
   "cell_type": "markdown",
   "metadata": {},
   "source": [
    "Data cleaning"
   ]
  },
  {
   "cell_type": "code",
   "execution_count": 28,
   "metadata": {},
   "outputs": [],
   "source": [
    "TPS = pd.read_csv('https://raw.githubusercontent.com/ZorroHZR/MMAI-5000/main/Group%20Project%20Data-SFD%20Data-Toronto%20Police.csv')"
   ]
  },
  {
   "cell_type": "code",
   "execution_count": 29,
   "metadata": {},
   "outputs": [
    {
     "name": "stdout",
     "output_type": "stream",
     "text": [
      "<class 'pandas.core.frame.DataFrame'>\n",
      "RangeIndex: 5707 entries, 0 to 5706\n",
      "Data columns (total 21 columns):\n",
      " #   Column             Non-Null Count  Dtype  \n",
      "---  ------             --------------  -----  \n",
      " 0   X                  5707 non-null   float64\n",
      " 1   Y                  5707 non-null   float64\n",
      " 2   OBJECTID           5707 non-null   int64  \n",
      " 3   EVENT_UNIQUE_ID    5707 non-null   object \n",
      " 4   OCC_DATE           5707 non-null   object \n",
      " 5   OCC_YEAR           5707 non-null   int64  \n",
      " 6   OCC_MONTH          5707 non-null   object \n",
      " 7   OCC_DOW            5707 non-null   object \n",
      " 8   OCC_DOY            5707 non-null   int64  \n",
      " 9   OCC_DAY            5707 non-null   int64  \n",
      " 10  OCC_HOUR           5707 non-null   int64  \n",
      " 11  OCC_TIME_RANGE     5707 non-null   object \n",
      " 12  DIVISION           5707 non-null   object \n",
      " 13  DEATH              5707 non-null   int64  \n",
      " 14  INJURIES           5707 non-null   int64  \n",
      " 15  HOOD_158           5707 non-null   object \n",
      " 16  NEIGHBOURHOOD_158  5707 non-null   object \n",
      " 17  HOOD_140           5707 non-null   object \n",
      " 18  NEIGHBOURHOOD_140  5707 non-null   object \n",
      " 19  LONG_WGS84         5707 non-null   float64\n",
      " 20  LAT_WGS84          5707 non-null   float64\n",
      "dtypes: float64(4), int64(7), object(10)\n",
      "memory usage: 936.4+ KB\n"
     ]
    }
   ],
   "source": [
    "TPS.info()"
   ]
  },
  {
   "attachments": {},
   "cell_type": "markdown",
   "metadata": {},
   "source": [
    "Toronto Police Sevice Data includes 20 features that are:\n",
    "\n",
    "1  EVENT_UNIQUE_ID : Offence Number\n",
    "2  OCC_DATE  : Date Offence Occurred (time is displayed in UTC lormat when downloaded as a CSV)\n",
    "3  OCC_YEAR  : Year Offence Occurred\n",
    "4  OCC_MONTH : Month Offence Occurred        \n",
    "5  OCC_DOW   : Day of the Week Offence Occurred      \n",
    "6  OCC_DOY   : Day of the Year Offence Occurred          \n",
    "7  OCC_DAY   : Day of the Month Offence Occurred       \n",
    "8  OCC_HOUR  : Hour of Day Offence Occurred         \n",
    "9  OCC_TIME_RANGE :Time Range of Day Offence Occurred             \n",
    "10 DIVISION  : Police Division where Offence Occurred   \n",
    "11 DEATH :Count of Deaths caused by the Shooting    \n",
    "12 INJURIES  : Count of Injured Persons caused by the Shooting           \n",
    "13 HOOD_158  : Identifier of Neighbourhood using Cily of Toronto's new 158 neighbourhood structure          \n",
    "14 NEIGHBOURHOOD_158 : Name of Neighbourhood using City of Toronto's new 158 neighbourood structure        \n",
    "15 HOOD_140   : Identifier of Neighbourhood using City of Toronto's old 140 neighbourhood structure\n",
    "16 NEIGHBOURHOOD_140  : Name of Neighbourhood using City of Toronto's old 140 neighbourhood structure          \n",
    "17 LONG_WGS84  :longitude Coordinates (Offset to nearest intersection)\n",
    "18  LAT_WGS84  : Latitude Coordinates (Offset to nearest intersection)     "
   ]
  },
  {
   "cell_type": "code",
   "execution_count": 30,
   "metadata": {},
   "outputs": [
    {
     "name": "stdout",
     "output_type": "stream",
     "text": [
      "(5707, 21)\n",
      "Index(['X', 'Y', 'OBJECTID', 'EVENT_UNIQUE_ID', 'OCC_DATE', 'OCC_YEAR',\n",
      "       'OCC_MONTH', 'OCC_DOW', 'OCC_DOY', 'OCC_DAY', 'OCC_HOUR',\n",
      "       'OCC_TIME_RANGE', 'DIVISION', 'DEATH', 'INJURIES', 'HOOD_158',\n",
      "       'NEIGHBOURHOOD_158', 'HOOD_140', 'NEIGHBOURHOOD_140', 'LONG_WGS84',\n",
      "       'LAT_WGS84'],\n",
      "      dtype='object')\n"
     ]
    }
   ],
   "source": [
    "print(TPS.shape)\n",
    "print(TPS.columns)"
   ]
  },
  {
   "cell_type": "code",
   "execution_count": 31,
   "metadata": {},
   "outputs": [
    {
     "name": "stdout",
     "output_type": "stream",
     "text": [
      "X                    0\n",
      "Y                    0\n",
      "OBJECTID             0\n",
      "EVENT_UNIQUE_ID      0\n",
      "OCC_DATE             0\n",
      "OCC_YEAR             0\n",
      "OCC_MONTH            0\n",
      "OCC_DOW              0\n",
      "OCC_DOY              0\n",
      "OCC_DAY              0\n",
      "OCC_HOUR             0\n",
      "OCC_TIME_RANGE       0\n",
      "DIVISION             0\n",
      "DEATH                0\n",
      "INJURIES             0\n",
      "HOOD_158             0\n",
      "NEIGHBOURHOOD_158    0\n",
      "HOOD_140             0\n",
      "NEIGHBOURHOOD_140    0\n",
      "LONG_WGS84           0\n",
      "LAT_WGS84            0\n",
      "dtype: int64\n"
     ]
    }
   ],
   "source": [
    "print(TPS.isna().sum())"
   ]
  },
  {
   "attachments": {},
   "cell_type": "markdown",
   "metadata": {},
   "source": [
    "Based on this we can know that there is no missing values."
   ]
  },
  {
   "cell_type": "code",
   "execution_count": 32,
   "metadata": {},
   "outputs": [
    {
     "data": {
      "text/html": [
       "<div>\n",
       "<style scoped>\n",
       "    .dataframe tbody tr th:only-of-type {\n",
       "        vertical-align: middle;\n",
       "    }\n",
       "\n",
       "    .dataframe tbody tr th {\n",
       "        vertical-align: top;\n",
       "    }\n",
       "\n",
       "    .dataframe thead th {\n",
       "        text-align: right;\n",
       "    }\n",
       "</style>\n",
       "<table border=\"1\" class=\"dataframe\">\n",
       "  <thead>\n",
       "    <tr style=\"text-align: right;\">\n",
       "      <th></th>\n",
       "      <th>X</th>\n",
       "      <th>Y</th>\n",
       "      <th>OBJECTID</th>\n",
       "      <th>EVENT_UNIQUE_ID</th>\n",
       "      <th>OCC_DATE</th>\n",
       "      <th>OCC_YEAR</th>\n",
       "      <th>OCC_MONTH</th>\n",
       "      <th>OCC_DOW</th>\n",
       "      <th>OCC_DOY</th>\n",
       "      <th>OCC_DAY</th>\n",
       "      <th>...</th>\n",
       "      <th>OCC_TIME_RANGE</th>\n",
       "      <th>DIVISION</th>\n",
       "      <th>DEATH</th>\n",
       "      <th>INJURIES</th>\n",
       "      <th>HOOD_158</th>\n",
       "      <th>NEIGHBOURHOOD_158</th>\n",
       "      <th>HOOD_140</th>\n",
       "      <th>NEIGHBOURHOOD_140</th>\n",
       "      <th>LONG_WGS84</th>\n",
       "      <th>LAT_WGS84</th>\n",
       "    </tr>\n",
       "  </thead>\n",
       "  <tbody>\n",
       "    <tr>\n",
       "      <th>0</th>\n",
       "      <td>-79.234955</td>\n",
       "      <td>43.781528</td>\n",
       "      <td>1</td>\n",
       "      <td>GO-2004397105</td>\n",
       "      <td>2004/05/15 04:00:00+00</td>\n",
       "      <td>2004</td>\n",
       "      <td>May</td>\n",
       "      <td>Saturday</td>\n",
       "      <td>136</td>\n",
       "      <td>15</td>\n",
       "      <td>...</td>\n",
       "      <td>Night</td>\n",
       "      <td>D41</td>\n",
       "      <td>0</td>\n",
       "      <td>0</td>\n",
       "      <td>142</td>\n",
       "      <td>Woburn North</td>\n",
       "      <td>137</td>\n",
       "      <td>Woburn (137)</td>\n",
       "      <td>-79.234955</td>\n",
       "      <td>43.781528</td>\n",
       "    </tr>\n",
       "    <tr>\n",
       "      <th>1</th>\n",
       "      <td>-79.618218</td>\n",
       "      <td>43.733547</td>\n",
       "      <td>2</td>\n",
       "      <td>GO-2004600109</td>\n",
       "      <td>2004/07/26 04:00:00+00</td>\n",
       "      <td>2004</td>\n",
       "      <td>July</td>\n",
       "      <td>Monday</td>\n",
       "      <td>208</td>\n",
       "      <td>26</td>\n",
       "      <td>...</td>\n",
       "      <td>Evening</td>\n",
       "      <td>D23</td>\n",
       "      <td>0</td>\n",
       "      <td>0</td>\n",
       "      <td>1</td>\n",
       "      <td>West Humber-Clairville</td>\n",
       "      <td>1</td>\n",
       "      <td>West Humber-Clairville (1)</td>\n",
       "      <td>-79.618218</td>\n",
       "      <td>43.733547</td>\n",
       "    </tr>\n",
       "    <tr>\n",
       "      <th>2</th>\n",
       "      <td>-79.518759</td>\n",
       "      <td>43.769157</td>\n",
       "      <td>3</td>\n",
       "      <td>GO-2004311851</td>\n",
       "      <td>2004/05/14 04:00:00+00</td>\n",
       "      <td>2004</td>\n",
       "      <td>May</td>\n",
       "      <td>Friday</td>\n",
       "      <td>135</td>\n",
       "      <td>14</td>\n",
       "      <td>...</td>\n",
       "      <td>Afternoon</td>\n",
       "      <td>D31</td>\n",
       "      <td>1</td>\n",
       "      <td>1</td>\n",
       "      <td>24</td>\n",
       "      <td>Black Creek</td>\n",
       "      <td>24</td>\n",
       "      <td>Black Creek (24)</td>\n",
       "      <td>-79.518759</td>\n",
       "      <td>43.769157</td>\n",
       "    </tr>\n",
       "    <tr>\n",
       "      <th>3</th>\n",
       "      <td>-79.378870</td>\n",
       "      <td>43.660665</td>\n",
       "      <td>4</td>\n",
       "      <td>GO-2004736004</td>\n",
       "      <td>2004/12/19 05:00:00+00</td>\n",
       "      <td>2004</td>\n",
       "      <td>December</td>\n",
       "      <td>Sunday</td>\n",
       "      <td>354</td>\n",
       "      <td>19</td>\n",
       "      <td>...</td>\n",
       "      <td>Night</td>\n",
       "      <td>D51</td>\n",
       "      <td>1</td>\n",
       "      <td>0</td>\n",
       "      <td>168</td>\n",
       "      <td>Downtown Yonge East</td>\n",
       "      <td>75</td>\n",
       "      <td>Church-Yonge Corridor (75)</td>\n",
       "      <td>-79.378870</td>\n",
       "      <td>43.660665</td>\n",
       "    </tr>\n",
       "    <tr>\n",
       "      <th>4</th>\n",
       "      <td>-79.212435</td>\n",
       "      <td>43.812075</td>\n",
       "      <td>5</td>\n",
       "      <td>GO-2004303455</td>\n",
       "      <td>2004/04/12 04:00:00+00</td>\n",
       "      <td>2004</td>\n",
       "      <td>April</td>\n",
       "      <td>Monday</td>\n",
       "      <td>103</td>\n",
       "      <td>12</td>\n",
       "      <td>...</td>\n",
       "      <td>Evening</td>\n",
       "      <td>D42</td>\n",
       "      <td>0</td>\n",
       "      <td>0</td>\n",
       "      <td>146</td>\n",
       "      <td>Malvern East</td>\n",
       "      <td>132</td>\n",
       "      <td>Malvern (132)</td>\n",
       "      <td>-79.212435</td>\n",
       "      <td>43.812075</td>\n",
       "    </tr>\n",
       "  </tbody>\n",
       "</table>\n",
       "<p>5 rows × 21 columns</p>\n",
       "</div>"
      ],
      "text/plain": [
       "           X          Y  OBJECTID EVENT_UNIQUE_ID                OCC_DATE  \\\n",
       "0 -79.234955  43.781528         1   GO-2004397105  2004/05/15 04:00:00+00   \n",
       "1 -79.618218  43.733547         2   GO-2004600109  2004/07/26 04:00:00+00   \n",
       "2 -79.518759  43.769157         3   GO-2004311851  2004/05/14 04:00:00+00   \n",
       "3 -79.378870  43.660665         4   GO-2004736004  2004/12/19 05:00:00+00   \n",
       "4 -79.212435  43.812075         5   GO-2004303455  2004/04/12 04:00:00+00   \n",
       "\n",
       "   OCC_YEAR OCC_MONTH   OCC_DOW  OCC_DOY  OCC_DAY  ...  OCC_TIME_RANGE  \\\n",
       "0      2004       May  Saturday      136       15  ...           Night   \n",
       "1      2004      July    Monday      208       26  ...         Evening   \n",
       "2      2004       May    Friday      135       14  ...       Afternoon   \n",
       "3      2004  December    Sunday      354       19  ...           Night   \n",
       "4      2004     April    Monday      103       12  ...         Evening   \n",
       "\n",
       "  DIVISION DEATH  INJURIES  HOOD_158       NEIGHBOURHOOD_158 HOOD_140  \\\n",
       "0      D41     0         0       142            Woburn North      137   \n",
       "1      D23     0         0         1  West Humber-Clairville        1   \n",
       "2      D31     1         1        24             Black Creek       24   \n",
       "3      D51     1         0       168     Downtown Yonge East       75   \n",
       "4      D42     0         0       146            Malvern East      132   \n",
       "\n",
       "            NEIGHBOURHOOD_140 LONG_WGS84  LAT_WGS84  \n",
       "0                Woburn (137) -79.234955  43.781528  \n",
       "1  West Humber-Clairville (1) -79.618218  43.733547  \n",
       "2            Black Creek (24) -79.518759  43.769157  \n",
       "3  Church-Yonge Corridor (75) -79.378870  43.660665  \n",
       "4               Malvern (132) -79.212435  43.812075  \n",
       "\n",
       "[5 rows x 21 columns]"
      ]
     },
     "execution_count": 32,
     "metadata": {},
     "output_type": "execute_result"
    }
   ],
   "source": [
    "TPS.head()"
   ]
  },
  {
   "attachments": {},
   "cell_type": "markdown",
   "metadata": {},
   "source": [
    "Total Case by year"
   ]
  },
  {
   "cell_type": "code",
   "execution_count": 43,
   "metadata": {},
   "outputs": [
    {
     "name": "stdout",
     "output_type": "stream",
     "text": [
      "2004 Total Case ：191\n",
      "2005 Total Case ：262\n",
      "2006 Total Case ：215\n",
      "2007 Total Case ：207\n",
      "2008 Total Case ：238\n",
      "2009 Total Case ：252\n",
      "2010 Total Case ：259\n",
      "2011 Total Case ：227\n",
      "2012 Total Case ：219\n",
      "2013 Total Case ：204\n",
      "2014 Total Case ：177\n",
      "2015 Total Case ：288\n",
      "2016 Total Case ：407\n",
      "2017 Total Case ：392\n",
      "2018 Total Case ：427\n",
      "2019 Total Case ：492\n",
      "2020 Total Case ：462\n",
      "2021 Total Case ：409\n",
      "2022 Total Case ：379\n"
     ]
    }
   ],
   "source": [
    "years = [2004, 2005, 2006, 2007, 2008, 2009, 2010, 2011, 2012, 2013, 2014, 2015, 2016, 2017, 2018, 2019, 2020, 2021, 2022]\n",
    "counts = {}\n",
    "for year in years:\n",
    "    counts[year] = TPS[TPS['OCC_YEAR'] == year].shape[0]\n",
    "for year, count in counts.items():\n",
    "    print(f\"{year} Total Case ：{count}\")"
   ]
  },
  {
   "cell_type": "code",
   "execution_count": 70,
   "metadata": {},
   "outputs": [
    {
     "data": {
      "image/png": "[encoded data removed]",
      "text/plain": [
       "<Figure size 640x480 with 1 Axes>"
      ]
     },
     "metadata": {},
     "output_type": "display_data"
    }
   ],
   "source": [
    "plt.bar(counts.keys(), counts.values())\n",
    "plt.xlabel('year')\n",
    "plt.ylabel('Total Case', rotation= 0)\n",
    "plt.title('Total Case 2004 to 2022')\n",
    "plt.xticks(years, rotation=45)\n",
    "plt.show()"
   ]
  },
  {
   "cell_type": "code",
   "execution_count": 73,
   "metadata": {},
   "outputs": [
    {
     "data": {
      "image/png": "[encoded data removed]",
      "text/plain": [
       "<Figure size 640x480 with 1 Axes>"
      ]
     },
     "metadata": {},
     "output_type": "display_data"
    }
   ],
   "source": [
    "plt.plot(counts.keys(), counts.values(), marker='o', linestyle='-', linewidth=2)\n",
    "plt.xlabel('Year')\n",
    "plt.ylabel('Total Case', rotation= 0)\n",
    "plt.title('Total Case 2004 to 2022')\n",
    "plt.xticks(list(counts.keys()), list(counts.keys()), rotation=90)\n",
    "plt.show()"
   ]
  }
 ],
 "metadata": {
  "kernelspec": {
   "display_name": "base",
   "language": "python",
   "name": "python3"
  },
  "language_info": {
   "codemirror_mode": {
    "name": "ipython",
    "version": 3
   },
   "file_extension": ".py",
   "mimetype": "text/x-python",
   "name": "python",
   "nbconvert_exporter": "python",
   "pygments_lexer": "ipython3",
   "version": "3.10.9"
  },
  "orig_nbformat": 4
 },
 "nbformat": 4,
 "nbformat_minor": 2
}
