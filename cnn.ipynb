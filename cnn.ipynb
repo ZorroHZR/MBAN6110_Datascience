{
  "nbformat": 4,
  "nbformat_minor": 0,
  "metadata": {
    "colab": {
      "provenance": [],
      "gpuType": "T4",
      "authorship_tag": "ABX9TyPKADHIrAa+ohRzUAUoFGdX",
      "include_colab_link": true
    },
    "kernelspec": {
      "name": "python3",
      "display_name": "Python 3"
    },
    "language_info": {
      "name": "python"
    },
    "accelerator": "GPU"
  },
  "cells": [
    {
      "cell_type": "markdown",
      "metadata": {
        "id": "view-in-github",
        "colab_type": "text"
      },
      "source": [
        "<a href=\"https://colab.research.google.com/github/ZorroHZR/MMAI-5000/blob/main/cnn.ipynb\" target=\"_parent\"><img src=\"https://colab.research.google.com/assets/colab-badge.svg\" alt=\"Open In Colab\"/></a>"
      ]
    },
    {
      "cell_type": "code",
      "execution_count": 2,
      "metadata": {
        "id": "oBys5AuFlJs0"
      },
      "outputs": [],
      "source": [
        "import tensorflow as tf\n",
        "from tensorflow.keras.datasets import cifar10\n",
        "from tensorflow.keras.utils import to_categorical # convert a matrix to ls and Os"
      ]
    },
    {
      "cell_type": "code",
      "source": [
        "(train_images, train_labels), (test_images, test_labels) = cifar10.load_data()"
      ],
      "metadata": {
        "colab": {
          "base_uri": "https://localhost:8080/"
        },
        "id": "j9_D0jZilw65",
        "outputId": "b3c1b61e-4a35-403a-a79e-a68f12927b51"
      },
      "execution_count": 3,
      "outputs": [
        {
          "output_type": "stream",
          "name": "stdout",
          "text": [
            "Downloading data from https://www.cs.toronto.edu/~kriz/cifar-10-python.tar.gz\n",
            "170498071/170498071 [==============================] - 6s 0us/step\n"
          ]
        }
      ]
    },
    {
      "cell_type": "code",
      "source": [
        "train_images, test_images = train_images/255.0, test_images/255.0"
      ],
      "metadata": {
        "id": "Si6LGGyjl8Qh"
      },
      "execution_count": 4,
      "outputs": []
    },
    {
      "cell_type": "code",
      "source": [
        "train_labels = to_categorical(train_labels, 10)\n",
        "test_labels = to_categorical(test_labels, 10)"
      ],
      "metadata": {
        "id": "P94O519YmHWd"
      },
      "execution_count": 5,
      "outputs": []
    },
    {
      "cell_type": "code",
      "source": [
        "train_labels #one hot encoding in this part"
      ],
      "metadata": {
        "colab": {
          "base_uri": "https://localhost:8080/"
        },
        "id": "I_0p8D1smM0e",
        "outputId": "991a0aca-06c5-4e2e-aa8d-bee6a9ffe576"
      },
      "execution_count": 6,
      "outputs": [
        {
          "output_type": "execute_result",
          "data": {
            "text/plain": [
              "array([[0., 0., 0., ..., 0., 0., 0.],\n",
              "       [0., 0., 0., ..., 0., 0., 1.],\n",
              "       [0., 0., 0., ..., 0., 0., 1.],\n",
              "       ...,\n",
              "       [0., 0., 0., ..., 0., 0., 1.],\n",
              "       [0., 1., 0., ..., 0., 0., 0.],\n",
              "       [0., 1., 0., ..., 0., 0., 0.]], dtype=float32)"
            ]
          },
          "metadata": {},
          "execution_count": 6
        }
      ]
    },
    {
      "cell_type": "code",
      "source": [
        "from keras.src.layers.reshaping.flatten import Flatten\n",
        "#custom model\n",
        "    # 添加一个Conv2D卷积层，需要指定一些参数，例如过滤器的数量和大小\n",
        "\n",
        "custom_model = tf.keras.Sequential([\n",
        "    tf.keras.layers.Conv2D(32, (3,3), activation='relu', input_shape=(32,32,3)),\n",
        "    tf.keras.layers.MaxPooling2D(2,2),# second layercan change\n",
        "    tf.keras.layers.Conv2D(64, (3,3), activation='relu'),#conclusion layers\n",
        "    tf.keras.layers.MaxPooling2D(2,2),\n",
        "    tf.keras.layers.Conv2D(128, (3,3), activation='relu'),\n",
        "    tf.keras.layers.Flatten(),#at least one dance layers in your model(one processing layer , one dense layer)o\n",
        "    tf.keras.layers.Dense(128, activation='relu'),\n",
        "    tf.keras.layers.Dense(10, activation='softmax')\n",
        "])\n",
        "\n",
        "    # 可以根据需要添加更多的层 (size can change) Sequential模型是通过传递一个层的列表来构建的，每一个层都是通过tf.keras.layers.LayerType来指定。Conv2D层是卷积层，常用于处理图像数据，其中filters参数定义了滤波器的数量，\n",
        "    #kernel_size定义了每个滤波器的大小，activation定义了激活函数，而input_shape定义了输入数据的形状\n",
        "    # ...\n",
        "    # simple model might be 3 layers is fine."
      ],
      "metadata": {
        "id": "dTiz_lY8mTD6"
      },
      "execution_count": 7,
      "outputs": []
    },
    {
      "cell_type": "code",
      "source": [
        "# Alex netmodel\n",
        "import tensorflow as tf\n",
        "\n",
        "alexnet_model = tf.keras.Sequential([\n",
        "    tf.keras.layers.Conv2D(48,(3,3), activation='relu', padding='same', input_shape=(32,32,3)),\n",
        "    tf.keras.layers.MaxPooling2D(2,2),\n",
        "    tf.keras.layers.Conv2D(128,(3,3), activation='relu', padding='same'),\n",
        "    tf.keras.layers.MaxPooling2D(2,2),\n",
        "    tf.keras.layers.Conv2D(192, (3,3), activation='relu', padding='same'),\n",
        "    tf.keras.layers.Conv2D(192, (3,3), activation='relu', padding='same'),\n",
        "    tf.keras.layers.Conv2D(128, (3,3), activation='relu', padding='same'),\n",
        "    tf.keras.layers.MaxPooling2D(2,2),\n",
        "    tf.keras.layers.Flatten(),# 展平层，用于从卷积层到全连接层的过渡\n",
        "    tf.keras.layers.Dense(1024, activation='relu'),# 全连接层\n",
        "    tf.keras.layers.Dropout(0.5),# Dropout层，防止过拟合\n",
        "    tf.keras.layers.Dense(1024, activation='relu'),# 另一个全连接层\n",
        "    tf.keras.layers.Dropout(0.5),# 又一个Dropout层\n",
        "    tf.keras.layers.Dense(10, activation='softmax')# 输出层，根据类别数量调整，这里假设有10个类别\n",
        "\n",
        "]\n",
        "\n",
        ")\n"
      ],
      "metadata": {
        "id": "joaAdo-IpbZZ"
      },
      "execution_count": 8,
      "outputs": []
    },
    {
      "cell_type": "code",
      "source": [
        "alexnet_model.compile(optimizer='adam', loss='categorical_crossentropy', metrics=['accuracy'])"
      ],
      "metadata": {
        "id": "Mhd5rluux1Fl"
      },
      "execution_count": 9,
      "outputs": []
    },
    {
      "cell_type": "code",
      "source": [
        "alexnet_model.summary() # print the output shape, and param"
      ],
      "metadata": {
        "colab": {
          "base_uri": "https://localhost:8080/"
        },
        "id": "gRSY6KlzyApj",
        "outputId": "69400b12-3acf-490f-b854-d0c8a3e63798"
      },
      "execution_count": 10,
      "outputs": [
        {
          "output_type": "stream",
          "name": "stdout",
          "text": [
            "Model: \"sequential_1\"\n",
            "_________________________________________________________________\n",
            " Layer (type)                Output Shape              Param #   \n",
            "=================================================================\n",
            " conv2d_3 (Conv2D)           (None, 32, 32, 48)        1344      \n",
            "                                                                 \n",
            " max_pooling2d_2 (MaxPoolin  (None, 16, 16, 48)        0         \n",
            " g2D)                                                            \n",
            "                                                                 \n",
            " conv2d_4 (Conv2D)           (None, 16, 16, 128)       55424     \n",
            "                                                                 \n",
            " max_pooling2d_3 (MaxPoolin  (None, 8, 8, 128)         0         \n",
            " g2D)                                                            \n",
            "                                                                 \n",
            " conv2d_5 (Conv2D)           (None, 8, 8, 192)         221376    \n",
            "                                                                 \n",
            " conv2d_6 (Conv2D)           (None, 8, 8, 192)         331968    \n",
            "                                                                 \n",
            " conv2d_7 (Conv2D)           (None, 8, 8, 128)         221312    \n",
            "                                                                 \n",
            " max_pooling2d_4 (MaxPoolin  (None, 4, 4, 128)         0         \n",
            " g2D)                                                            \n",
            "                                                                 \n",
            " flatten_1 (Flatten)         (None, 2048)              0         \n",
            "                                                                 \n",
            " dense_2 (Dense)             (None, 1024)              2098176   \n",
            "                                                                 \n",
            " dropout (Dropout)           (None, 1024)              0         \n",
            "                                                                 \n",
            " dense_3 (Dense)             (None, 1024)              1049600   \n",
            "                                                                 \n",
            " dropout_1 (Dropout)         (None, 1024)              0         \n",
            "                                                                 \n",
            " dense_4 (Dense)             (None, 10)                10250     \n",
            "                                                                 \n",
            "=================================================================\n",
            "Total params: 3989450 (15.22 MB)\n",
            "Trainable params: 3989450 (15.22 MB)\n",
            "Non-trainable params: 0 (0.00 Byte)\n",
            "_________________________________________________________________\n"
          ]
        }
      ]
    },
    {
      "cell_type": "code",
      "source": [
        "alexnet_history = alexnet_model.fit(\n",
        "    train_images, train_labels,\n",
        "    epochs = 10,\n",
        "    validation_data=(test_images, test_labels),\n",
        "    batch_size=64\n",
        ")"
      ],
      "metadata": {
        "colab": {
          "base_uri": "https://localhost:8080/"
        },
        "id": "2Vwo64ssyYh1",
        "outputId": "2b49c9c6-35a4-47d9-f864-aa9869472001"
      },
      "execution_count": 11,
      "outputs": [
        {
          "output_type": "stream",
          "name": "stdout",
          "text": [
            "Epoch 1/10\n",
            "782/782 [==============================] - 23s 13ms/step - loss: 1.6176 - accuracy: 0.3919 - val_loss: 1.2921 - val_accuracy: 0.5358\n",
            "Epoch 2/10\n",
            "782/782 [==============================] - 8s 10ms/step - loss: 1.1596 - accuracy: 0.5840 - val_loss: 0.9930 - val_accuracy: 0.6502\n",
            "Epoch 3/10\n",
            "782/782 [==============================] - 11s 13ms/step - loss: 0.9602 - accuracy: 0.6611 - val_loss: 0.9148 - val_accuracy: 0.6755\n",
            "Epoch 4/10\n",
            "782/782 [==============================] - 8s 11ms/step - loss: 0.8373 - accuracy: 0.7074 - val_loss: 0.8152 - val_accuracy: 0.7146\n",
            "Epoch 5/10\n",
            "782/782 [==============================] - 9s 12ms/step - loss: 0.7327 - accuracy: 0.7448 - val_loss: 0.8494 - val_accuracy: 0.7143\n",
            "Epoch 6/10\n",
            "782/782 [==============================] - 9s 11ms/step - loss: 0.6567 - accuracy: 0.7692 - val_loss: 0.8139 - val_accuracy: 0.7186\n",
            "Epoch 7/10\n",
            "782/782 [==============================] - 8s 11ms/step - loss: 0.6003 - accuracy: 0.7900 - val_loss: 0.7692 - val_accuracy: 0.7467\n",
            "Epoch 8/10\n",
            "782/782 [==============================] - 13s 17ms/step - loss: 0.5427 - accuracy: 0.8121 - val_loss: 0.7977 - val_accuracy: 0.7351\n",
            "Epoch 9/10\n",
            "782/782 [==============================] - 14s 18ms/step - loss: 0.4955 - accuracy: 0.8266 - val_loss: 0.7749 - val_accuracy: 0.7513\n",
            "Epoch 10/10\n",
            "782/782 [==============================] - 12s 16ms/step - loss: 0.4506 - accuracy: 0.8419 - val_loss: 0.7750 - val_accuracy: 0.7522\n"
          ]
        }
      ]
    },
    {
      "cell_type": "code",
      "source": [
        "custom_model.compile(optimizer='adam', loss='categorical_crossentropy', metrics=['accuracy'])\n",
        "custom_model_history = custom_model.fit(\n",
        "    train_images, train_labels,\n",
        "    epochs = 10,\n",
        "    validation_data=(test_images, test_labels),\n",
        "    batch_size=64)"
      ],
      "metadata": {
        "colab": {
          "base_uri": "https://localhost:8080/"
        },
        "id": "BvY6UjilyoNI",
        "outputId": "5d0228b3-9a0a-46ed-f1de-6146c07a44ff"
      },
      "execution_count": 12,
      "outputs": [
        {
          "output_type": "stream",
          "name": "stdout",
          "text": [
            "Epoch 1/10\n",
            "782/782 [==============================] - 10s 10ms/step - loss: 1.5332 - accuracy: 0.4445 - val_loss: 1.3119 - val_accuracy: 0.5333\n",
            "Epoch 2/10\n",
            "782/782 [==============================] - 6s 7ms/step - loss: 1.1599 - accuracy: 0.5903 - val_loss: 1.0830 - val_accuracy: 0.6156\n",
            "Epoch 3/10\n",
            "782/782 [==============================] - 6s 7ms/step - loss: 1.0032 - accuracy: 0.6484 - val_loss: 1.0256 - val_accuracy: 0.6367\n",
            "Epoch 4/10\n",
            "782/782 [==============================] - 6s 7ms/step - loss: 0.8956 - accuracy: 0.6856 - val_loss: 0.9182 - val_accuracy: 0.6802\n",
            "Epoch 5/10\n",
            "782/782 [==============================] - 5s 7ms/step - loss: 0.8076 - accuracy: 0.7193 - val_loss: 0.8793 - val_accuracy: 0.6979\n",
            "Epoch 6/10\n",
            "782/782 [==============================] - 7s 8ms/step - loss: 0.7462 - accuracy: 0.7390 - val_loss: 0.8531 - val_accuracy: 0.7063\n",
            "Epoch 7/10\n",
            "782/782 [==============================] - 7s 9ms/step - loss: 0.6911 - accuracy: 0.7583 - val_loss: 0.8438 - val_accuracy: 0.7094\n",
            "Epoch 8/10\n",
            "782/782 [==============================] - 8s 10ms/step - loss: 0.6377 - accuracy: 0.7775 - val_loss: 0.8160 - val_accuracy: 0.7233\n",
            "Epoch 9/10\n",
            "782/782 [==============================] - 5s 7ms/step - loss: 0.5881 - accuracy: 0.7949 - val_loss: 0.8418 - val_accuracy: 0.7200\n",
            "Epoch 10/10\n",
            "782/782 [==============================] - 5s 7ms/step - loss: 0.5466 - accuracy: 0.8067 - val_loss: 0.8678 - val_accuracy: 0.7189\n"
          ]
        }
      ]
    }
  ]
}